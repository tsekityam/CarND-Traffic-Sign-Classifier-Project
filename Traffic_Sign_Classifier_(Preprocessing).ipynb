{
 "cells": [
  {
   "cell_type": "markdown",
   "metadata": {},
   "source": [
    "# Self-Driving Car Engineer Nanodegree\n",
    "\n",
    "## Deep Learning\n",
    "\n",
    "## Project: Build a Traffic Sign Recognition Classifier\n",
    "\n",
    "In this notebook, a template is provided for you to implement your functionality in stages which is required to successfully complete this project. If additional code is required that cannot be included in the notebook, be sure that the Python code is successfully imported and included in your submission, if necessary. Sections that begin with **'Implementation'** in the header indicate where you should begin your implementation for your project. Note that some sections of implementation are optional, and will be marked with **'Optional'** in the header.\n",
    "\n",
    "In addition to implementing code, there will be questions that you must answer which relate to the project and your implementation. Each section where you will answer a question is preceded by a **'Question'** header. Carefully read each question and provide thorough answers in the following text boxes that begin with **'Answer:'**. Your project submission will be evaluated based on your answers to each of the questions and the implementation you provide.\n",
    "\n",
    ">**Note:** Code and Markdown cells can be executed using the **Shift + Enter** keyboard shortcut. In addition, Markdown cells can be edited by typically double-clicking the cell to enter edit mode."
   ]
  },
  {
   "cell_type": "markdown",
   "metadata": {},
   "source": [
    "---\n",
    "## Step 0: Load The Data"
   ]
  },
  {
   "cell_type": "code",
   "execution_count": null,
   "metadata": {
    "collapsed": true
   },
   "outputs": [],
   "source": [
    "# Load pickled data\n",
    "import pickle\n",
    "\n",
    "training_file = \"./traffic-signs-data/train.p\"\n",
    "testing_file = \"./traffic-signs-data/test.p\"\n",
    "\n",
    "with open(training_file, mode='rb') as f:\n",
    "    train = pickle.load(f)\n",
    "with open(testing_file, mode='rb') as f:\n",
    "    test = pickle.load(f)\n",
    "    \n",
    "X_train, y_train = train['features'], train['labels']\n",
    "X_test, y_test = test['features'], test['labels']"
   ]
  },
  {
   "cell_type": "markdown",
   "metadata": {},
   "source": [
    "---\n",
    "\n",
    "## Step 1: Dataset Summary & Exploration\n",
    "\n",
    "The pickled data is a dictionary with 4 key/value pairs:\n",
    "\n",
    "- `'features'` is a 4D array containing raw pixel data of the traffic sign images, (num examples, width, height, channels).\n",
    "- `'labels'` is a 1D array containing the label/class id of the traffic sign. The file `signnames.csv` contains id -> name mappings for each id.\n",
    "- `'sizes'` is a list containing tuples, (width, height) representing the the original width and height the image.\n",
    "- `'coords'` is a list containing tuples, (x1, y1, x2, y2) representing coordinates of a bounding box around the sign in the image. **THESE COORDINATES ASSUME THE ORIGINAL IMAGE. THE PICKLED DATA CONTAINS RESIZED VERSIONS (32 by 32) OF THESE IMAGES**\n",
    "\n",
    "Complete the basic data summary below."
   ]
  },
  {
   "cell_type": "code",
   "execution_count": null,
   "metadata": {
    "collapsed": false
   },
   "outputs": [],
   "source": [
    "### Replace each question mark with the appropriate value.\n",
    "\n",
    "n_train = len(X_train)\n",
    "\n",
    "n_test = len(X_test)\n",
    "\n",
    "image_shape = X_train[0].shape\n",
    "\n",
    "n_classes = len(set(y_train))\n",
    "\n",
    "print(\"Number of training examples =\", n_train)\n",
    "print(\"Number of testing examples =\", n_test)\n",
    "print(\"Image data shape =\", image_shape)\n",
    "print(\"Number of classes =\", n_classes)"
   ]
  },
  {
   "cell_type": "markdown",
   "metadata": {},
   "source": [
    "Visualize the German Traffic Signs Dataset using the pickled file(s). This is open ended, suggestions include: plotting traffic sign images, plotting the count of each sign, etc.\n",
    "\n",
    "The [Matplotlib](http://matplotlib.org/) [examples](http://matplotlib.org/examples/index.html) and [gallery](http://matplotlib.org/gallery.html) pages are a great resource for doing visualizations in Python.\n",
    "\n",
    "**NOTE:** It's recommended you start with something simple first. If you wish to do more, come back to it after you've completed the rest of the sections."
   ]
  },
  {
   "cell_type": "code",
   "execution_count": null,
   "metadata": {
    "collapsed": true
   },
   "outputs": [],
   "source": [
    "### Data exploration visualization goes here.\n",
    "### Feel free to use as many code cells as needed.\n",
    "import matplotlib.pyplot as plt\n",
    "# Visualizations will be shown in the notebook.\n",
    "%matplotlib inline"
   ]
  },
  {
   "cell_type": "code",
   "execution_count": null,
   "metadata": {
    "collapsed": false
   },
   "outputs": [],
   "source": [
    "import csv\n",
    "sign_names = []\n",
    "with open('./signnames.csv', 'rt') as csvfile:\n",
    "    spamreader = csv.reader(csvfile, delimiter=',')\n",
    "    for row in spamreader:\n",
    "        if row[0].isdigit():\n",
    "            sign_names.append(row[1])"
   ]
  },
  {
   "cell_type": "code",
   "execution_count": null,
   "metadata": {
    "collapsed": false
   },
   "outputs": [],
   "source": [
    "import numpy as np\n",
    "from collections import Counter\n",
    "\n",
    "x = np.arange(n_classes)\n",
    "label_counter = Counter(y_train)\n",
    "plt.title(\"Labels distribution in train.p\")\n",
    "plt.bar(x, height = label_counter.values())\n",
    "plt.xticks(x, label_counter.keys());\n",
    "print(label_counter)"
   ]
  },
  {
   "cell_type": "code",
   "execution_count": null,
   "metadata": {
    "collapsed": false
   },
   "outputs": [],
   "source": [
    "traffic_signs_images = []\n",
    "for label in range(n_classes):\n",
    "    indices = np.where(y_train == label)[0]\n",
    "    traffic_signs_images.append(X_train[indices])\n",
    "    \n",
    "f = plt.figure(figsize=(n_classes,n_classes))\n",
    "for label in range(n_classes):\n",
    "    image = traffic_signs_images[label][0].squeeze()\n",
    "    f.add_subplot(n_classes, 1, label + 1)\n",
    "    plt.title(sign_names[label])\n",
    "    plt.imshow(image)\n",
    "    plt.tight_layout()\n",
    "    plt.gca().axes.get_xaxis().set_visible(False)\n",
    "    plt.gca().axes.get_yaxis().set_visible(False)\n",
    "plt.show()"
   ]
  },
  {
   "cell_type": "markdown",
   "metadata": {},
   "source": [
    "----\n",
    "\n",
    "## Step 2: Design and Test a Model Architecture\n",
    "\n",
    "Design and implement a deep learning model that learns to recognize traffic signs. Train and test your model on the [German Traffic Sign Dataset](http://benchmark.ini.rub.de/?section=gtsrb&subsection=dataset).\n",
    "\n",
    "There are various aspects to consider when thinking about this problem:\n",
    "\n",
    "- Neural network architecture\n",
    "- Play around preprocessing techniques (normalization, rgb to grayscale, etc)\n",
    "- Number of examples per label (some have more than others).\n",
    "- Generate fake data.\n",
    "\n",
    "Here is an example of a [published baseline model on this problem](http://yann.lecun.com/exdb/publis/pdf/sermanet-ijcnn-11.pdf). It's not required to be familiar with the approach used in the paper but, it's good practice to try to read papers like these.\n",
    "\n",
    "**NOTE:** The LeNet-5 implementation shown in the [classroom](https://classroom.udacity.com/nanodegrees/nd013/parts/fbf77062-5703-404e-b60c-95b78b2f3f9e/modules/6df7ae49-c61c-4bb2-a23e-6527e69209ec/lessons/601ae704-1035-4287-8b11-e2c2716217ad/concepts/d4aca031-508f-4e0b-b493-e7b706120f81) at the end of the CNN lesson is a solid starting point. You'll have to change the number of classes and possibly the preprocessing, but aside from that it's plug and play!"
   ]
  },
  {
   "cell_type": "markdown",
   "metadata": {},
   "source": [
    "### Implementation\n",
    "\n",
    "Use the code cell (or multiple code cells, if necessary) to implement the first step of your project. Once you have completed your implementation and are satisfied with the results, be sure to thoroughly answer the questions that follow."
   ]
  },
  {
   "cell_type": "code",
   "execution_count": null,
   "metadata": {
    "collapsed": true
   },
   "outputs": [],
   "source": [
    "### Preprocess the data here.\n",
    "### Feel free to use as many code cells as needed."
   ]
  },
  {
   "cell_type": "code",
   "execution_count": null,
   "metadata": {
    "collapsed": false
   },
   "outputs": [],
   "source": [
    "import random\n",
    "import cv2\n",
    "def random_transform(image, factor=2):\n",
    "    transformed_image = image\n",
    "    rows,cols,height = transformed_image.shape\n",
    "    \n",
    "    pt1a = [cols/2, 0]\n",
    "    pt1b = [cols, 0]\n",
    "    pt1c = [0, rows]\n",
    "\n",
    "    pt2a = [pt1a[0]+random.randint(-factor, factor), pt1a[1]+random.randint(-factor, factor)]\n",
    "    pt2b = [pt1b[0]+random.randint(-factor, factor), pt1b[1]+random.randint(-factor, factor)]\n",
    "    pt2c = [pt1c[0]+random.randint(-factor, factor), pt1c[1]+random.randint(-factor, factor)]\n",
    "    \n",
    "    pts1 = np.float32([pt1a, pt1b, pt1c])\n",
    "    pts2 = np.float32([pt2a, pt2b, pt2c])\n",
    "\n",
    "    M = cv2.getAffineTransform(pts1, pts2)    \n",
    "    transformed_image = cv2.warpAffine(transformed_image, M, (cols,rows))\n",
    "\n",
    "    return transformed_image"
   ]
  },
  {
   "cell_type": "code",
   "execution_count": null,
   "metadata": {
    "collapsed": false
   },
   "outputs": [],
   "source": [
    "new_X_train = []\n",
    "new_y_train = []\n",
    "for n in range(n_classes):\n",
    "    images = []\n",
    "    while len(images) < 2500:\n",
    "        images.extend(traffic_signs_images[n])\n",
    "    images = images[0:2500]\n",
    "    new_X_train.extend(images)\n",
    "    new_y_train.extend([n] * 2500)\n",
    "    \n",
    "for n in range(len(new_X_train)):\n",
    "    new_X_train[n] = random_transform(new_X_train[n])\n",
    "\n",
    "new_X_train = np.array(new_X_train)\n",
    "new_y_train = np.array(new_y_train)"
   ]
  },
  {
   "cell_type": "code",
   "execution_count": null,
   "metadata": {
    "collapsed": false
   },
   "outputs": [],
   "source": [
    "new_n_train = len(new_X_train)\n",
    "\n",
    "new_image_shape = new_X_train[0].shape\n",
    "\n",
    "new_n_classes = len(set(new_y_train))\n",
    "\n",
    "print(\"Number of training examples =\", new_n_train)\n",
    "print(\"Image data shape =\", new_image_shape)\n",
    "print(\"Number of classes =\", new_n_classes)"
   ]
  },
  {
   "cell_type": "code",
   "execution_count": null,
   "metadata": {
    "collapsed": false
   },
   "outputs": [],
   "source": [
    "traffic_signs_images = []\n",
    "for label in range(n_classes):\n",
    "    indices = np.where(new_y_train == label)[0]\n",
    "    if len(indices) == 0:\n",
    "        print(label)\n",
    "    traffic_signs_images.append(new_X_train[indices])\n",
    "    \n",
    "f = plt.figure(figsize=(new_n_classes,n_classes))\n",
    "for label in range(new_n_classes):\n",
    "    image = traffic_signs_images[label][0].squeeze()\n",
    "    f.add_subplot(new_n_classes, 1, label + 1)\n",
    "    plt.title(sign_names[label])\n",
    "    plt.imshow(image)\n",
    "    plt.tight_layout()\n",
    "    plt.gca().axes.get_xaxis().set_visible(False)\n",
    "    plt.gca().axes.get_yaxis().set_visible(False)\n",
    "plt.show()"
   ]
  },
  {
   "cell_type": "code",
   "execution_count": null,
   "metadata": {
    "collapsed": false
   },
   "outputs": [],
   "source": [
    "file = open('./traffic-signs-data/preprocessed-train.p', 'wb')\n",
    "\n",
    "preprocessed_train = {\n",
    "    'features': new_X_train,\n",
    "    'labels': new_y_train}\n",
    "pickle.dump(preprocessed_train, file)\n",
    "file.close()"
   ]
  },
  {
   "cell_type": "code",
   "execution_count": null,
   "metadata": {
    "collapsed": true
   },
   "outputs": [],
   "source": []
  }
 ],
 "metadata": {
  "anaconda-cloud": {},
  "kernelspec": {
   "display_name": "Python 3",
   "language": "python",
   "name": "python3"
  },
  "language_info": {
   "codemirror_mode": {
    "name": "ipython",
    "version": 3
   },
   "file_extension": ".py",
   "mimetype": "text/x-python",
   "name": "python",
   "nbconvert_exporter": "python",
   "pygments_lexer": "ipython3",
   "version": "3.5.2"
  },
  "widgets": {
   "state": {},
   "version": "1.1.2"
  }
 },
 "nbformat": 4,
 "nbformat_minor": 1
}
