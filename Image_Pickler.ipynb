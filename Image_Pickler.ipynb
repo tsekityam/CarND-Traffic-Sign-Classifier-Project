{
 "cells": [
  {
   "cell_type": "code",
   "execution_count": 16,
   "metadata": {
    "collapsed": true
   },
   "outputs": [],
   "source": [
    "#importing some useful packages\n",
    "import matplotlib.image as mpimg\n",
    "import numpy as np\n",
    "import pickle"
   ]
  },
  {
   "cell_type": "code",
   "execution_count": 17,
   "metadata": {
    "collapsed": false
   },
   "outputs": [],
   "source": [
    "custom_data = {}\n",
    "custom_data['features'] = np.array([\n",
    "    mpimg.imread('./traffic-signs-data/15_No_vehicles.jpg'),\n",
    "    mpimg.imread('./traffic-signs-data/17_No_entry.jpg'),    \n",
    "    mpimg.imread('./traffic-signs-data/20_Dangerous_curve_to_the_right.jpg'),\n",
    "    mpimg.imread('./traffic-signs-data/28_Children_crossing.jpg'),\n",
    "    mpimg.imread('./traffic-signs-data/39_Keep_left.jpg')\n",
    "])\n",
    "custom_data['labels'] = np.array([\n",
    "    15,\n",
    "    17,\n",
    "    20,\n",
    "    28,\n",
    "    39\n",
    "])\n",
    "pickle.dump(custom_data, open(\"./traffic-signs-data/custom-test.p\", \"wb\"))"
   ]
  },
  {
   "cell_type": "code",
   "execution_count": null,
   "metadata": {
    "collapsed": true
   },
   "outputs": [],
   "source": []
  }
 ],
 "metadata": {
  "kernelspec": {
   "display_name": "Python 3",
   "language": "python",
   "name": "python3"
  },
  "language_info": {
   "codemirror_mode": {
    "name": "ipython",
    "version": 3
   },
   "file_extension": ".py",
   "mimetype": "text/x-python",
   "name": "python",
   "nbconvert_exporter": "python",
   "pygments_lexer": "ipython3",
   "version": "3.5.2"
  },
  "widgets": {
   "state": {},
   "version": "1.1.2"
  }
 },
 "nbformat": 4,
 "nbformat_minor": 2
}
